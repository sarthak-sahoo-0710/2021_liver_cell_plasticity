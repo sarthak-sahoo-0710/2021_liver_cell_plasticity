{
 "cells": [
  {
   "cell_type": "code",
   "execution_count": 1,
   "metadata": {},
   "outputs": [
    {
     "data": {
      "text/plain": [
       "(0.0, 200.0)"
      ]
     },
     "execution_count": 1,
     "metadata": {},
     "output_type": "execute_result"
    }
   ],
   "source": [
    "using DifferentialEquations\n",
    "#using Plots\n",
    "#pyplot()\n",
    "\n",
    "function hill(X,Y,lm_x_y,phi_x_y,n_x_y)::Float64\n",
    "    h = (big(phi_x_y)^n_x_y + big(lm_x_y)*big(Y)^n_x_y)/(big(phi_x_y)^n_x_y + big(Y)^n_x_y)\n",
    "    return h\n",
    "end\n",
    "\n",
    "function get_parameters()\n",
    "    #production rates\n",
    "    g_cebpa = 12000\n",
    "    g_tgfbr2 = 9000\n",
    "    g_sox9 = 400\n",
    "\n",
    "    #degradation rates\n",
    "    k_cebpa = 1.04\n",
    "    k_tgfbr2 = 0.50\n",
    "    k_sox9 = 0.10\n",
    "\n",
    "    #CEBPA interactions\n",
    "    lm_cebpa_cebpa = 2\n",
    "    phi_cebpa_cebpa = 6000\n",
    "    n_cebpa_cebpa = 3\n",
    "\n",
    "    lm_cebpa_tgfbr2 = 0.1\n",
    "    phi_cebpa_tgfbr2 = 9000\n",
    "    n_cebpa_tgfbr2 = 3\n",
    "\n",
    "    lm_cebpa_sox9 = 0.5\n",
    "    phi_cebpa_sox9 = 2000\n",
    "    n_cebpa_sox9 = 3\n",
    "\n",
    "    #TGFBR2 interactions\n",
    "    lm_tgfbr2_cebpa = 0.2\n",
    "    phi_tgfbr2_cebpa= 6000\n",
    "    n_tgfbr2_cebpa = 5\n",
    "\n",
    "    lm_tgfbr2_tgfbr2 = 1.25   # for irreversibility (increasing increases the hepatocyte-hepatoblast boundary)\n",
    "    phi_tgfbr2_tgfbr2= 9000\n",
    "    n_tgfbr2_tgfbr2  = 3\n",
    "\n",
    "    lm_tgfbr2_tgfb = 2.25   # height of the hepatoblast-cholangiocyte sigmoid (decreaing it removes bistable region)\n",
    "    phi_tgfbr2_tgfb= 25000\n",
    "    n_tgfbr2_tgfb  = 3\n",
    "\n",
    "    lm_tgfbr2_sox9 = 0.35  # cebpa tgfbr2 bistabilty vanishes if reduced\n",
    "    phi_tgfbr2_sox9= 4000\n",
    "    n_tgfbr2_sox9  = 3\n",
    "    # SOX9 interactions\n",
    "    lm_sox9_tgfbr2 = 1.2\n",
    "    phi_sox9_tgfbr2= 15000\n",
    "    n_sox9_tgfbr2  = 3\n",
    "\n",
    "    lm_sox9_sox9 = 2\n",
    "    phi_sox9_sox9= 6500\n",
    "    n_sox9_sox9  = 4\n",
    "    # input signal\n",
    "    #tgfb = tgf_b #7600 # 7600 - 41041\n",
    "    \n",
    "    return g_cebpa, g_tgfbr2, g_sox9, k_cebpa, k_tgfbr2, k_sox9, lm_cebpa_cebpa, phi_cebpa_cebpa,\n",
    "        n_cebpa_cebpa, lm_cebpa_tgfbr2, phi_cebpa_tgfbr2, n_cebpa_tgfbr2,\n",
    "        lm_cebpa_sox9, phi_cebpa_sox9, n_cebpa_sox9, lm_tgfbr2_cebpa, phi_tgfbr2_cebpa,\n",
    "        n_tgfbr2_cebpa, lm_tgfbr2_tgfbr2, phi_tgfbr2_tgfbr2, n_tgfbr2_tgfbr2,\n",
    "        lm_tgfbr2_tgfb, phi_tgfbr2_tgfb, n_tgfbr2_tgfb, lm_tgfbr2_sox9, phi_tgfbr2_sox9,\n",
    "        n_tgfbr2_sox9, lm_sox9_tgfbr2, phi_sox9_tgfbr2, n_sox9_tgfbr2,\n",
    "        lm_sox9_sox9, phi_sox9_sox9, n_sox9_sox9#, tgfb\n",
    "    \n",
    "end\n",
    "\n",
    "function deterministic(du,u,p,t)\n",
    "    g_cebpa, g_tgfbr2, g_sox9, k_cebpa, k_tgfbr2, k_sox9, lm_cebpa_cebpa, phi_cebpa_cebpa,\n",
    "        n_cebpa_cebpa, lm_cebpa_tgfbr2, phi_cebpa_tgfbr2, n_cebpa_tgfbr2,\n",
    "        lm_cebpa_sox9, phi_cebpa_sox9, n_cebpa_sox9, lm_tgfbr2_cebpa, phi_tgfbr2_cebpa,\n",
    "        n_tgfbr2_cebpa, lm_tgfbr2_tgfbr2, phi_tgfbr2_tgfbr2, n_tgfbr2_tgfbr2,\n",
    "        lm_tgfbr2_tgfb, phi_tgfbr2_tgfb, n_tgfbr2_tgfb, lm_tgfbr2_sox9, phi_tgfbr2_sox9,\n",
    "        n_tgfbr2_sox9, lm_sox9_tgfbr2, phi_sox9_tgfbr2, n_sox9_tgfbr2,\n",
    "        lm_sox9_sox9, phi_sox9_sox9, n_sox9_sox9= get_parameters()\n",
    "    tgfb = p\n",
    "    du[1] = (g_cebpa * \n",
    "            hill(u[1],u[1],lm_cebpa_cebpa,phi_cebpa_cebpa,n_cebpa_cebpa) * \n",
    "            hill(u[1],u[2],lm_cebpa_tgfbr2,phi_cebpa_tgfbr2,n_cebpa_tgfbr2)*\n",
    "            hill(u[1],u[3],lm_cebpa_sox9,phi_cebpa_sox9,n_cebpa_sox9)) - \n",
    "            k_cebpa*u[1]\n",
    "    du[2] = (g_tgfbr2*\n",
    "            hill(u[2],tgfb,lm_tgfbr2_tgfb,phi_tgfbr2_tgfb,n_tgfbr2_tgfb)*\n",
    "            hill(u[2],u[2],lm_tgfbr2_tgfbr2,phi_tgfbr2_tgfbr2,n_tgfbr2_tgfbr2)*\n",
    "            hill(u[2],u[3],lm_tgfbr2_sox9,phi_tgfbr2_sox9,n_tgfbr2_sox9)*\n",
    "            hill(u[2],u[3],lm_tgfbr2_cebpa,phi_tgfbr2_cebpa,n_tgfbr2_cebpa)) -\n",
    "            k_tgfbr2*u[2]\n",
    "    du[3] = (g_sox9*\n",
    "            hill(u[3],u[3],lm_sox9_sox9,phi_sox9_sox9,n_sox9_sox9)*\n",
    "            hill(u[3],u[2],lm_sox9_tgfbr2,phi_sox9_tgfbr2,n_sox9_tgfbr2)) - \n",
    "            k_sox9*u[3]\n",
    "end \n",
    "\n",
    "function noise(du,u,p,t)\n",
    "    \n",
    "    du[1] = 100\n",
    "    du[2] = 100\n",
    "    du[3] = 100\n",
    "    \n",
    "end\n",
    "\n",
    "## Define Initial Conditions\n",
    "u0_cebpa = 12000\n",
    "u0_tgfbr2 = 120\n",
    "u0_sox9 = 120\n",
    "u0 = [u0_cebpa,u0_tgfbr2,u0_sox9]\n",
    "tspan = (0.0,200.0)\n",
    "\n",
    "### Execute calculations"
   ]
  },
  {
   "cell_type": "code",
   "execution_count": 10,
   "metadata": {},
   "outputs": [
    {
     "name": "stdout",
     "output_type": "stream",
     "text": [
      "  0.511080 seconds (12.56 M allocations: 514.459 MiB, 24.32% gc time)\n"
     ]
    }
   ],
   "source": [
    "num_runs = 2\n",
    "tgfb = 7600\n",
    "filename=\"test.txt\"\n",
    "\n",
    "final_array = []\n",
    "\n",
    "@time Threads.@threads for j in 1:num_runs\n",
    "\tp = tgfb\n",
    "\tsde = SDEProblem(deterministic,noise,u0,tspan,p)\n",
    "\tsol = solve(sde);\n",
    "\tappend!(final_array,[[j,last(sol[:])]])\n",
    "end"
   ]
  },
  {
   "cell_type": "code",
   "execution_count": 11,
   "metadata": {},
   "outputs": [
    {
     "name": "stdout",
     "output_type": "stream",
     "text": [
      "Any[Any[2, [6654.3156035222455, 6727.579367029829, 5899.175646373181]], Any[1, [5493.253363893996, 7735.2709155400635, 5471.409696127128]]]\n"
     ]
    }
   ],
   "source": [
    "println(final_array)"
   ]
  },
  {
   "cell_type": "code",
   "execution_count": 7,
   "metadata": {},
   "outputs": [
    {
     "data": {
      "text/plain": [
       "2-element Array{Int64,1}:\n",
       " 1\n",
       " 2"
      ]
     },
     "execution_count": 7,
     "metadata": {},
     "output_type": "execute_result"
    }
   ],
   "source": [
    "b = []\n",
    "a  = [1,2]"
   ]
  },
  {
   "cell_type": "code",
   "execution_count": null,
   "metadata": {},
   "outputs": [],
   "source": [
    "o = open(filename,\"a\")\n",
    "for j in final_array\n",
    "\twrite(o,string(j[1],\"\\t\",j[2][1],\"\\t\",j[2][2],\"\\t\",j[2][3],\"\\n\"))\n",
    "end\n",
    "\n",
    "write(o,\"####\\n\")\n",
    "\n",
    "close(o)"
   ]
  }
 ],
 "metadata": {
  "kernelspec": {
   "display_name": "Julia 1.5.0",
   "language": "julia",
   "name": "julia-1.5"
  },
  "language_info": {
   "file_extension": ".jl",
   "mimetype": "application/julia",
   "name": "julia",
   "version": "1.5.0"
  }
 },
 "nbformat": 4,
 "nbformat_minor": 4
}
